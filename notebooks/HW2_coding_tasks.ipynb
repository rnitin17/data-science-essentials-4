{
 "cells": [
  {
   "cell_type": "markdown",
   "id": "75647d13",
   "metadata": {},
   "source": [
    "Coding Tasks:\n",
    "\n",
    "Start a new Jupyter Notebook to complete these tasks. This week, you'll be combining two different datasets.\n",
    "\n",
    "First, you'll work with a dataset containing the number of primary care physicians per county for each county in the United States. It was obtained from the Area Health Resources File, published by the [Health Resources and Services Administration](https://data.hrsa.gov/topics/health-workforce/ahrf). This data is contained in the file `primary_care_physicians.csv`.\n",
    "\n",
    "Second, the file `population_by_county.csv` contains the Census Bureau's 2019 population estimates for each US County. It also contains a column `urban`. The `urban` column uses data from the National Bureau of Economic Research to classify each county as either urban or rural. The U.S. Office of Management and Budget designates counties as metropolitan (a core urban area of 50,000 or more population), micropolitan (an urban core of at least 10,000 but less than 50,000 population), or neither. Here, a county is considered \"urban\" if it is part of a metropolitan or micropolitan area and \"rural\" if it is not.\n",
    "\n",
    " 1. First, import the primary care physicians dataset (`primary_care_physicians.csv`) into a data frame named `physicians`. \n",
    " 2. Filter `physicians` down to just the counties in Tennessee. Save the filtered dataframe back to `physicians`. Verify that the resulting dataframe has 95 rows.\n",
    " 3. Look at the distribution of the number of primary care physicians. What do you notice?\n",
    " 4. Now, import the population by county dataset (`population_by_county.csv`) into a DataFrame named `population`.\n",
    " 5. Merge the `physicians` DataFrame with the `population` DataFrame. Keep only the values for Tennessee. When you merge, be sure the include both the `population` and `urban` columns in the merged results. Save the result of the merge back to `physicians`.\n",
    " 6. How many Tennessee counties are considered urban?\n",
    " 7. The State Health Access Data Assistance Center (SHADAC) (https://www.shadac.org/) classifies counties into three groups based on the number of residents per primary care physician. First, counties with fewer than 1500 residents per primary care physician are considered to have an \"adequate\" supply. Counties with at least 1500 residents but fewer than 3500 residents per primary care physician are considered to have a \"moderately inadequate\" supply, and counties with at least 3500 residents per primary care physician are considered to have a \"low inadequate\" supply. How many counties in Tennessee are in each group? \n",
    " 8. Does there appear to be any detectable relationship between whether a county is urban or rural and its supply of primary care physicians?"
   ]
  },
  {
   "cell_type": "code",
   "execution_count": 138,
   "id": "2b09d8d2",
   "metadata": {},
   "outputs": [],
   "source": [
    "import pandas as pd \n",
    "physicians = pd.read_csv(\"../data/primary_care_physicians.csv\")"
   ]
  },
  {
   "cell_type": "code",
   "execution_count": 139,
   "id": "d2b88d22",
   "metadata": {},
   "outputs": [
    {
     "data": {
      "text/html": [
       "<div>\n",
       "<style scoped>\n",
       "    .dataframe tbody tr th:only-of-type {\n",
       "        vertical-align: middle;\n",
       "    }\n",
       "\n",
       "    .dataframe tbody tr th {\n",
       "        vertical-align: top;\n",
       "    }\n",
       "\n",
       "    .dataframe thead th {\n",
       "        text-align: right;\n",
       "    }\n",
       "</style>\n",
       "<table border=\"1\" class=\"dataframe\">\n",
       "  <thead>\n",
       "    <tr style=\"text-align: right;\">\n",
       "      <th></th>\n",
       "      <th>FIPS</th>\n",
       "      <th>state</th>\n",
       "      <th>county</th>\n",
       "      <th>primary_care_physicians</th>\n",
       "    </tr>\n",
       "  </thead>\n",
       "  <tbody>\n",
       "    <tr>\n",
       "      <th>0</th>\n",
       "      <td>1001</td>\n",
       "      <td>Alabama</td>\n",
       "      <td>Autauga</td>\n",
       "      <td>26.0</td>\n",
       "    </tr>\n",
       "    <tr>\n",
       "      <th>1</th>\n",
       "      <td>1003</td>\n",
       "      <td>Alabama</td>\n",
       "      <td>Baldwin</td>\n",
       "      <td>153.0</td>\n",
       "    </tr>\n",
       "    <tr>\n",
       "      <th>2</th>\n",
       "      <td>1005</td>\n",
       "      <td>Alabama</td>\n",
       "      <td>Barbour</td>\n",
       "      <td>8.0</td>\n",
       "    </tr>\n",
       "    <tr>\n",
       "      <th>3</th>\n",
       "      <td>1007</td>\n",
       "      <td>Alabama</td>\n",
       "      <td>Bibb</td>\n",
       "      <td>12.0</td>\n",
       "    </tr>\n",
       "    <tr>\n",
       "      <th>4</th>\n",
       "      <td>1009</td>\n",
       "      <td>Alabama</td>\n",
       "      <td>Blount</td>\n",
       "      <td>12.0</td>\n",
       "    </tr>\n",
       "  </tbody>\n",
       "</table>\n",
       "</div>"
      ],
      "text/plain": [
       "   FIPS    state   county  primary_care_physicians\n",
       "0  1001  Alabama  Autauga                     26.0\n",
       "1  1003  Alabama  Baldwin                    153.0\n",
       "2  1005  Alabama  Barbour                      8.0\n",
       "3  1007  Alabama     Bibb                     12.0\n",
       "4  1009  Alabama   Blount                     12.0"
      ]
     },
     "execution_count": 139,
     "metadata": {},
     "output_type": "execute_result"
    }
   ],
   "source": [
    "physicians.head(5)"
   ]
  },
  {
   "cell_type": "code",
   "execution_count": 140,
   "id": "562baf42",
   "metadata": {},
   "outputs": [],
   "source": [
    "physicians = physicians.loc[physicians['state'] == 'Tennessee']"
   ]
  },
  {
   "cell_type": "code",
   "execution_count": 141,
   "id": "793044da",
   "metadata": {},
   "outputs": [
    {
     "data": {
      "text/plain": [
       "(95, 4)"
      ]
     },
     "execution_count": 141,
     "metadata": {},
     "output_type": "execute_result"
    }
   ],
   "source": [
    "physicians.shape"
   ]
  },
  {
   "cell_type": "code",
   "execution_count": 142,
   "id": "d2cd931a",
   "metadata": {},
   "outputs": [
    {
     "data": {
      "text/html": [
       "<div>\n",
       "<style scoped>\n",
       "    .dataframe tbody tr th:only-of-type {\n",
       "        vertical-align: middle;\n",
       "    }\n",
       "\n",
       "    .dataframe tbody tr th {\n",
       "        vertical-align: top;\n",
       "    }\n",
       "\n",
       "    .dataframe thead th {\n",
       "        text-align: right;\n",
       "    }\n",
       "</style>\n",
       "<table border=\"1\" class=\"dataframe\">\n",
       "  <thead>\n",
       "    <tr style=\"text-align: right;\">\n",
       "      <th></th>\n",
       "      <th>FIPS</th>\n",
       "      <th>state</th>\n",
       "      <th>county</th>\n",
       "      <th>primary_care_physicians</th>\n",
       "    </tr>\n",
       "  </thead>\n",
       "  <tbody>\n",
       "    <tr>\n",
       "      <th>2432</th>\n",
       "      <td>47001</td>\n",
       "      <td>Tennessee</td>\n",
       "      <td>Anderson</td>\n",
       "      <td>39.0</td>\n",
       "    </tr>\n",
       "    <tr>\n",
       "      <th>2433</th>\n",
       "      <td>47003</td>\n",
       "      <td>Tennessee</td>\n",
       "      <td>Bedford</td>\n",
       "      <td>15.0</td>\n",
       "    </tr>\n",
       "    <tr>\n",
       "      <th>2434</th>\n",
       "      <td>47005</td>\n",
       "      <td>Tennessee</td>\n",
       "      <td>Benton</td>\n",
       "      <td>3.0</td>\n",
       "    </tr>\n",
       "    <tr>\n",
       "      <th>2435</th>\n",
       "      <td>47007</td>\n",
       "      <td>Tennessee</td>\n",
       "      <td>Bledsoe</td>\n",
       "      <td>1.0</td>\n",
       "    </tr>\n",
       "    <tr>\n",
       "      <th>2436</th>\n",
       "      <td>47009</td>\n",
       "      <td>Tennessee</td>\n",
       "      <td>Blount</td>\n",
       "      <td>90.0</td>\n",
       "    </tr>\n",
       "  </tbody>\n",
       "</table>\n",
       "</div>"
      ],
      "text/plain": [
       "       FIPS      state    county  primary_care_physicians\n",
       "2432  47001  Tennessee  Anderson                     39.0\n",
       "2433  47003  Tennessee   Bedford                     15.0\n",
       "2434  47005  Tennessee    Benton                      3.0\n",
       "2435  47007  Tennessee   Bledsoe                      1.0\n",
       "2436  47009  Tennessee    Blount                     90.0"
      ]
     },
     "execution_count": 142,
     "metadata": {},
     "output_type": "execute_result"
    }
   ],
   "source": [
    "physicians.head(5)"
   ]
  },
  {
   "cell_type": "code",
   "execution_count": 143,
   "id": "35beea2c",
   "metadata": {},
   "outputs": [
    {
     "data": {
      "text/plain": [
       "count     95.000000\n",
       "mean      51.042105\n",
       "std      129.311426\n",
       "min        0.000000\n",
       "25%        4.500000\n",
       "50%       12.000000\n",
       "75%       26.500000\n",
       "max      806.000000\n",
       "Name: primary_care_physicians, dtype: float64"
      ]
     },
     "execution_count": 143,
     "metadata": {},
     "output_type": "execute_result"
    }
   ],
   "source": [
    "physicians['primary_care_physicians'].describe()\n",
    "#some counties have no physicians, the max is 806 physicians in one county, median is 12 physicians in a county\n",
    "#The range is super wide, mean should not be used as a measure here. "
   ]
  },
  {
   "cell_type": "code",
   "execution_count": 144,
   "id": "5288d00c",
   "metadata": {},
   "outputs": [
    {
     "data": {
      "text/html": [
       "<div>\n",
       "<style scoped>\n",
       "    .dataframe tbody tr th:only-of-type {\n",
       "        vertical-align: middle;\n",
       "    }\n",
       "\n",
       "    .dataframe tbody tr th {\n",
       "        vertical-align: top;\n",
       "    }\n",
       "\n",
       "    .dataframe thead th {\n",
       "        text-align: right;\n",
       "    }\n",
       "</style>\n",
       "<table border=\"1\" class=\"dataframe\">\n",
       "  <thead>\n",
       "    <tr style=\"text-align: right;\">\n",
       "      <th></th>\n",
       "      <th>FIPS</th>\n",
       "      <th>state</th>\n",
       "      <th>county</th>\n",
       "      <th>primary_care_physicians</th>\n",
       "    </tr>\n",
       "  </thead>\n",
       "  <tbody>\n",
       "    <tr>\n",
       "      <th>2510</th>\n",
       "      <td>47157</td>\n",
       "      <td>Tennessee</td>\n",
       "      <td>Shelby</td>\n",
       "      <td>806.0</td>\n",
       "    </tr>\n",
       "  </tbody>\n",
       "</table>\n",
       "</div>"
      ],
      "text/plain": [
       "       FIPS      state  county  primary_care_physicians\n",
       "2510  47157  Tennessee  Shelby                    806.0"
      ]
     },
     "execution_count": 144,
     "metadata": {},
     "output_type": "execute_result"
    }
   ],
   "source": [
    "physicians.loc[physicians['primary_care_physicians'] == 806]"
   ]
  },
  {
   "cell_type": "code",
   "execution_count": 145,
   "id": "664ce8bc",
   "metadata": {},
   "outputs": [],
   "source": [
    "population = pd.read_csv(\"../data/population_by_county.csv\")"
   ]
  },
  {
   "cell_type": "code",
   "execution_count": 146,
   "id": "9f8111e7",
   "metadata": {},
   "outputs": [
    {
     "data": {
      "text/html": [
       "<div>\n",
       "<style scoped>\n",
       "    .dataframe tbody tr th:only-of-type {\n",
       "        vertical-align: middle;\n",
       "    }\n",
       "\n",
       "    .dataframe tbody tr th {\n",
       "        vertical-align: top;\n",
       "    }\n",
       "\n",
       "    .dataframe thead th {\n",
       "        text-align: right;\n",
       "    }\n",
       "</style>\n",
       "<table border=\"1\" class=\"dataframe\">\n",
       "  <thead>\n",
       "    <tr style=\"text-align: right;\">\n",
       "      <th></th>\n",
       "      <th>FIPS</th>\n",
       "      <th>population</th>\n",
       "      <th>county</th>\n",
       "      <th>state</th>\n",
       "      <th>urban</th>\n",
       "    </tr>\n",
       "  </thead>\n",
       "  <tbody>\n",
       "    <tr>\n",
       "      <th>0</th>\n",
       "      <td>17051</td>\n",
       "      <td>21565</td>\n",
       "      <td>Fayette County</td>\n",
       "      <td>ILLINOIS</td>\n",
       "      <td>Rural</td>\n",
       "    </tr>\n",
       "    <tr>\n",
       "      <th>1</th>\n",
       "      <td>17107</td>\n",
       "      <td>29003</td>\n",
       "      <td>Logan County</td>\n",
       "      <td>ILLINOIS</td>\n",
       "      <td>Rural</td>\n",
       "    </tr>\n",
       "    <tr>\n",
       "      <th>2</th>\n",
       "      <td>17165</td>\n",
       "      <td>23994</td>\n",
       "      <td>Saline County</td>\n",
       "      <td>ILLINOIS</td>\n",
       "      <td>Rural</td>\n",
       "    </tr>\n",
       "    <tr>\n",
       "      <th>3</th>\n",
       "      <td>17097</td>\n",
       "      <td>701473</td>\n",
       "      <td>Lake County</td>\n",
       "      <td>ILLINOIS</td>\n",
       "      <td>Urban</td>\n",
       "    </tr>\n",
       "    <tr>\n",
       "      <th>4</th>\n",
       "      <td>17127</td>\n",
       "      <td>14219</td>\n",
       "      <td>Massac County</td>\n",
       "      <td>ILLINOIS</td>\n",
       "      <td>Rural</td>\n",
       "    </tr>\n",
       "  </tbody>\n",
       "</table>\n",
       "</div>"
      ],
      "text/plain": [
       "    FIPS  population          county     state  urban\n",
       "0  17051       21565  Fayette County  ILLINOIS  Rural\n",
       "1  17107       29003    Logan County  ILLINOIS  Rural\n",
       "2  17165       23994   Saline County  ILLINOIS  Rural\n",
       "3  17097      701473     Lake County  ILLINOIS  Urban\n",
       "4  17127       14219   Massac County  ILLINOIS  Rural"
      ]
     },
     "execution_count": 146,
     "metadata": {},
     "output_type": "execute_result"
    }
   ],
   "source": [
    "population.head(5)"
   ]
  },
  {
   "cell_type": "code",
   "execution_count": 147,
   "id": "ac4aac73",
   "metadata": {},
   "outputs": [],
   "source": [
    "physicians['state'] = physicians['state'].str.upper()"
   ]
  },
  {
   "cell_type": "code",
   "execution_count": 148,
   "id": "03066b8e",
   "metadata": {},
   "outputs": [
    {
     "data": {
      "text/html": [
       "<div>\n",
       "<style scoped>\n",
       "    .dataframe tbody tr th:only-of-type {\n",
       "        vertical-align: middle;\n",
       "    }\n",
       "\n",
       "    .dataframe tbody tr th {\n",
       "        vertical-align: top;\n",
       "    }\n",
       "\n",
       "    .dataframe thead th {\n",
       "        text-align: right;\n",
       "    }\n",
       "</style>\n",
       "<table border=\"1\" class=\"dataframe\">\n",
       "  <thead>\n",
       "    <tr style=\"text-align: right;\">\n",
       "      <th></th>\n",
       "      <th>FIPS</th>\n",
       "      <th>state</th>\n",
       "      <th>county</th>\n",
       "      <th>primary_care_physicians</th>\n",
       "    </tr>\n",
       "  </thead>\n",
       "  <tbody>\n",
       "    <tr>\n",
       "      <th>2432</th>\n",
       "      <td>47001</td>\n",
       "      <td>TENNESSEE</td>\n",
       "      <td>Anderson</td>\n",
       "      <td>39.0</td>\n",
       "    </tr>\n",
       "    <tr>\n",
       "      <th>2433</th>\n",
       "      <td>47003</td>\n",
       "      <td>TENNESSEE</td>\n",
       "      <td>Bedford</td>\n",
       "      <td>15.0</td>\n",
       "    </tr>\n",
       "    <tr>\n",
       "      <th>2434</th>\n",
       "      <td>47005</td>\n",
       "      <td>TENNESSEE</td>\n",
       "      <td>Benton</td>\n",
       "      <td>3.0</td>\n",
       "    </tr>\n",
       "    <tr>\n",
       "      <th>2435</th>\n",
       "      <td>47007</td>\n",
       "      <td>TENNESSEE</td>\n",
       "      <td>Bledsoe</td>\n",
       "      <td>1.0</td>\n",
       "    </tr>\n",
       "    <tr>\n",
       "      <th>2436</th>\n",
       "      <td>47009</td>\n",
       "      <td>TENNESSEE</td>\n",
       "      <td>Blount</td>\n",
       "      <td>90.0</td>\n",
       "    </tr>\n",
       "  </tbody>\n",
       "</table>\n",
       "</div>"
      ],
      "text/plain": [
       "       FIPS      state    county  primary_care_physicians\n",
       "2432  47001  TENNESSEE  Anderson                     39.0\n",
       "2433  47003  TENNESSEE   Bedford                     15.0\n",
       "2434  47005  TENNESSEE    Benton                      3.0\n",
       "2435  47007  TENNESSEE   Bledsoe                      1.0\n",
       "2436  47009  TENNESSEE    Blount                     90.0"
      ]
     },
     "execution_count": 148,
     "metadata": {},
     "output_type": "execute_result"
    }
   ],
   "source": [
    "physicians.head(5)"
   ]
  },
  {
   "cell_type": "code",
   "execution_count": 149,
   "id": "ee2ec912",
   "metadata": {},
   "outputs": [],
   "source": [
    "population = population.loc[population['state'] == 'TENNESSEE']"
   ]
  },
  {
   "cell_type": "code",
   "execution_count": 150,
   "id": "89364427",
   "metadata": {},
   "outputs": [
    {
     "data": {
      "text/plain": [
       "(95, 5)"
      ]
     },
     "execution_count": 150,
     "metadata": {},
     "output_type": "execute_result"
    }
   ],
   "source": [
    "population.shape"
   ]
  },
  {
   "cell_type": "code",
   "execution_count": 151,
   "id": "ceee06f4",
   "metadata": {},
   "outputs": [
    {
     "data": {
      "text/html": [
       "<div>\n",
       "<style scoped>\n",
       "    .dataframe tbody tr th:only-of-type {\n",
       "        vertical-align: middle;\n",
       "    }\n",
       "\n",
       "    .dataframe tbody tr th {\n",
       "        vertical-align: top;\n",
       "    }\n",
       "\n",
       "    .dataframe thead th {\n",
       "        text-align: right;\n",
       "    }\n",
       "</style>\n",
       "<table border=\"1\" class=\"dataframe\">\n",
       "  <thead>\n",
       "    <tr style=\"text-align: right;\">\n",
       "      <th></th>\n",
       "      <th>FIPS</th>\n",
       "      <th>population</th>\n",
       "      <th>county</th>\n",
       "      <th>state</th>\n",
       "      <th>urban</th>\n",
       "    </tr>\n",
       "  </thead>\n",
       "  <tbody>\n",
       "    <tr>\n",
       "      <th>283</th>\n",
       "      <td>47165</td>\n",
       "      <td>183437</td>\n",
       "      <td>Sumner County</td>\n",
       "      <td>TENNESSEE</td>\n",
       "      <td>Urban</td>\n",
       "    </tr>\n",
       "    <tr>\n",
       "      <th>284</th>\n",
       "      <td>47169</td>\n",
       "      <td>10231</td>\n",
       "      <td>Trousdale County</td>\n",
       "      <td>TENNESSEE</td>\n",
       "      <td>Urban</td>\n",
       "    </tr>\n",
       "    <tr>\n",
       "      <th>285</th>\n",
       "      <td>47027</td>\n",
       "      <td>7654</td>\n",
       "      <td>Clay County</td>\n",
       "      <td>TENNESSEE</td>\n",
       "      <td>Rural</td>\n",
       "    </tr>\n",
       "    <tr>\n",
       "      <th>405</th>\n",
       "      <td>47157</td>\n",
       "      <td>936374</td>\n",
       "      <td>Shelby County</td>\n",
       "      <td>TENNESSEE</td>\n",
       "      <td>Urban</td>\n",
       "    </tr>\n",
       "    <tr>\n",
       "      <th>406</th>\n",
       "      <td>47077</td>\n",
       "      <td>27977</td>\n",
       "      <td>Henderson County</td>\n",
       "      <td>TENNESSEE</td>\n",
       "      <td>Rural</td>\n",
       "    </tr>\n",
       "  </tbody>\n",
       "</table>\n",
       "</div>"
      ],
      "text/plain": [
       "      FIPS  population            county      state  urban\n",
       "283  47165      183437     Sumner County  TENNESSEE  Urban\n",
       "284  47169       10231  Trousdale County  TENNESSEE  Urban\n",
       "285  47027        7654       Clay County  TENNESSEE  Rural\n",
       "405  47157      936374     Shelby County  TENNESSEE  Urban\n",
       "406  47077       27977  Henderson County  TENNESSEE  Rural"
      ]
     },
     "execution_count": 151,
     "metadata": {},
     "output_type": "execute_result"
    }
   ],
   "source": [
    "population.head(5)"
   ]
  },
  {
   "cell_type": "code",
   "execution_count": 152,
   "id": "68548bf9",
   "metadata": {},
   "outputs": [],
   "source": [
    "#population['county'] = population['county'].str.replace('County','')"
   ]
  },
  {
   "cell_type": "code",
   "execution_count": 153,
   "id": "c1dde433",
   "metadata": {},
   "outputs": [
    {
     "data": {
      "text/html": [
       "<div>\n",
       "<style scoped>\n",
       "    .dataframe tbody tr th:only-of-type {\n",
       "        vertical-align: middle;\n",
       "    }\n",
       "\n",
       "    .dataframe tbody tr th {\n",
       "        vertical-align: top;\n",
       "    }\n",
       "\n",
       "    .dataframe thead th {\n",
       "        text-align: right;\n",
       "    }\n",
       "</style>\n",
       "<table border=\"1\" class=\"dataframe\">\n",
       "  <thead>\n",
       "    <tr style=\"text-align: right;\">\n",
       "      <th></th>\n",
       "      <th>FIPS</th>\n",
       "      <th>population</th>\n",
       "      <th>county</th>\n",
       "      <th>state</th>\n",
       "      <th>urban</th>\n",
       "    </tr>\n",
       "  </thead>\n",
       "  <tbody>\n",
       "    <tr>\n",
       "      <th>283</th>\n",
       "      <td>47165</td>\n",
       "      <td>183437</td>\n",
       "      <td>Sumner County</td>\n",
       "      <td>TENNESSEE</td>\n",
       "      <td>Urban</td>\n",
       "    </tr>\n",
       "    <tr>\n",
       "      <th>284</th>\n",
       "      <td>47169</td>\n",
       "      <td>10231</td>\n",
       "      <td>Trousdale County</td>\n",
       "      <td>TENNESSEE</td>\n",
       "      <td>Urban</td>\n",
       "    </tr>\n",
       "    <tr>\n",
       "      <th>285</th>\n",
       "      <td>47027</td>\n",
       "      <td>7654</td>\n",
       "      <td>Clay County</td>\n",
       "      <td>TENNESSEE</td>\n",
       "      <td>Rural</td>\n",
       "    </tr>\n",
       "    <tr>\n",
       "      <th>405</th>\n",
       "      <td>47157</td>\n",
       "      <td>936374</td>\n",
       "      <td>Shelby County</td>\n",
       "      <td>TENNESSEE</td>\n",
       "      <td>Urban</td>\n",
       "    </tr>\n",
       "    <tr>\n",
       "      <th>406</th>\n",
       "      <td>47077</td>\n",
       "      <td>27977</td>\n",
       "      <td>Henderson County</td>\n",
       "      <td>TENNESSEE</td>\n",
       "      <td>Rural</td>\n",
       "    </tr>\n",
       "    <tr>\n",
       "      <th>407</th>\n",
       "      <td>47089</td>\n",
       "      <td>53679</td>\n",
       "      <td>Jefferson County</td>\n",
       "      <td>TENNESSEE</td>\n",
       "      <td>Urban</td>\n",
       "    </tr>\n",
       "    <tr>\n",
       "      <th>408</th>\n",
       "      <td>47153</td>\n",
       "      <td>14816</td>\n",
       "      <td>Sequatchie County</td>\n",
       "      <td>TENNESSEE</td>\n",
       "      <td>Urban</td>\n",
       "    </tr>\n",
       "    <tr>\n",
       "      <th>409</th>\n",
       "      <td>47017</td>\n",
       "      <td>27886</td>\n",
       "      <td>Carroll County</td>\n",
       "      <td>TENNESSEE</td>\n",
       "      <td>Rural</td>\n",
       "    </tr>\n",
       "    <tr>\n",
       "      <th>410</th>\n",
       "      <td>47037</td>\n",
       "      <td>687488</td>\n",
       "      <td>Davidson County</td>\n",
       "      <td>TENNESSEE</td>\n",
       "      <td>Urban</td>\n",
       "    </tr>\n",
       "    <tr>\n",
       "      <th>411</th>\n",
       "      <td>47135</td>\n",
       "      <td>7962</td>\n",
       "      <td>Perry County</td>\n",
       "      <td>TENNESSEE</td>\n",
       "      <td>Rural</td>\n",
       "    </tr>\n",
       "  </tbody>\n",
       "</table>\n",
       "</div>"
      ],
      "text/plain": [
       "      FIPS  population             county      state  urban\n",
       "283  47165      183437      Sumner County  TENNESSEE  Urban\n",
       "284  47169       10231   Trousdale County  TENNESSEE  Urban\n",
       "285  47027        7654        Clay County  TENNESSEE  Rural\n",
       "405  47157      936374      Shelby County  TENNESSEE  Urban\n",
       "406  47077       27977   Henderson County  TENNESSEE  Rural\n",
       "407  47089       53679   Jefferson County  TENNESSEE  Urban\n",
       "408  47153       14816  Sequatchie County  TENNESSEE  Urban\n",
       "409  47017       27886     Carroll County  TENNESSEE  Rural\n",
       "410  47037      687488    Davidson County  TENNESSEE  Urban\n",
       "411  47135        7962       Perry County  TENNESSEE  Rural"
      ]
     },
     "execution_count": 153,
     "metadata": {},
     "output_type": "execute_result"
    }
   ],
   "source": [
    "population.head(10)"
   ]
  },
  {
   "cell_type": "code",
   "execution_count": 154,
   "id": "8bfa4d30",
   "metadata": {},
   "outputs": [
    {
     "data": {
      "text/html": [
       "<div>\n",
       "<style scoped>\n",
       "    .dataframe tbody tr th:only-of-type {\n",
       "        vertical-align: middle;\n",
       "    }\n",
       "\n",
       "    .dataframe tbody tr th {\n",
       "        vertical-align: top;\n",
       "    }\n",
       "\n",
       "    .dataframe thead th {\n",
       "        text-align: right;\n",
       "    }\n",
       "</style>\n",
       "<table border=\"1\" class=\"dataframe\">\n",
       "  <thead>\n",
       "    <tr style=\"text-align: right;\">\n",
       "      <th></th>\n",
       "      <th>FIPS</th>\n",
       "      <th>population</th>\n",
       "      <th>county</th>\n",
       "      <th>state</th>\n",
       "      <th>urban</th>\n",
       "    </tr>\n",
       "  </thead>\n",
       "  <tbody>\n",
       "    <tr>\n",
       "      <th>3190</th>\n",
       "      <td>47063</td>\n",
       "      <td>64132</td>\n",
       "      <td>Hamblen County</td>\n",
       "      <td>TENNESSEE</td>\n",
       "      <td>Urban</td>\n",
       "    </tr>\n",
       "    <tr>\n",
       "      <th>3191</th>\n",
       "      <td>47173</td>\n",
       "      <td>19488</td>\n",
       "      <td>Union County</td>\n",
       "      <td>TENNESSEE</td>\n",
       "      <td>Urban</td>\n",
       "    </tr>\n",
       "    <tr>\n",
       "      <th>3192</th>\n",
       "      <td>47071</td>\n",
       "      <td>25715</td>\n",
       "      <td>Hardin County</td>\n",
       "      <td>TENNESSEE</td>\n",
       "      <td>Rural</td>\n",
       "    </tr>\n",
       "    <tr>\n",
       "      <th>3193</th>\n",
       "      <td>47043</td>\n",
       "      <td>52680</td>\n",
       "      <td>Dickson County</td>\n",
       "      <td>TENNESSEE</td>\n",
       "      <td>Urban</td>\n",
       "    </tr>\n",
       "    <tr>\n",
       "      <th>3194</th>\n",
       "      <td>47129</td>\n",
       "      <td>21545</td>\n",
       "      <td>Morgan County</td>\n",
       "      <td>TENNESSEE</td>\n",
       "      <td>Rural</td>\n",
       "    </tr>\n",
       "    <tr>\n",
       "      <th>3195</th>\n",
       "      <td>47123</td>\n",
       "      <td>46064</td>\n",
       "      <td>Monroe County</td>\n",
       "      <td>TENNESSEE</td>\n",
       "      <td>Rural</td>\n",
       "    </tr>\n",
       "    <tr>\n",
       "      <th>3196</th>\n",
       "      <td>47079</td>\n",
       "      <td>32284</td>\n",
       "      <td>Henry County</td>\n",
       "      <td>TENNESSEE</td>\n",
       "      <td>Rural</td>\n",
       "    </tr>\n",
       "    <tr>\n",
       "      <th>3197</th>\n",
       "      <td>47033</td>\n",
       "      <td>14399</td>\n",
       "      <td>Crockett County</td>\n",
       "      <td>TENNESSEE</td>\n",
       "      <td>Rural</td>\n",
       "    </tr>\n",
       "    <tr>\n",
       "      <th>3198</th>\n",
       "      <td>47095</td>\n",
       "      <td>7401</td>\n",
       "      <td>Lake County</td>\n",
       "      <td>TENNESSEE</td>\n",
       "      <td>Rural</td>\n",
       "    </tr>\n",
       "    <tr>\n",
       "      <th>3199</th>\n",
       "      <td>47093</td>\n",
       "      <td>461104</td>\n",
       "      <td>Knox County</td>\n",
       "      <td>TENNESSEE</td>\n",
       "      <td>Urban</td>\n",
       "    </tr>\n",
       "  </tbody>\n",
       "</table>\n",
       "</div>"
      ],
      "text/plain": [
       "       FIPS  population           county      state  urban\n",
       "3190  47063       64132   Hamblen County  TENNESSEE  Urban\n",
       "3191  47173       19488     Union County  TENNESSEE  Urban\n",
       "3192  47071       25715    Hardin County  TENNESSEE  Rural\n",
       "3193  47043       52680   Dickson County  TENNESSEE  Urban\n",
       "3194  47129       21545    Morgan County  TENNESSEE  Rural\n",
       "3195  47123       46064    Monroe County  TENNESSEE  Rural\n",
       "3196  47079       32284     Henry County  TENNESSEE  Rural\n",
       "3197  47033       14399  Crockett County  TENNESSEE  Rural\n",
       "3198  47095        7401      Lake County  TENNESSEE  Rural\n",
       "3199  47093      461104      Knox County  TENNESSEE  Urban"
      ]
     },
     "execution_count": 154,
     "metadata": {},
     "output_type": "execute_result"
    }
   ],
   "source": [
    "population.tail(10)"
   ]
  },
  {
   "cell_type": "code",
   "execution_count": 155,
   "id": "59df834e",
   "metadata": {},
   "outputs": [
    {
     "data": {
      "text/plain": [
       "(95, 4)"
      ]
     },
     "execution_count": 155,
     "metadata": {},
     "output_type": "execute_result"
    }
   ],
   "source": [
    "physicians.shape"
   ]
  },
  {
   "cell_type": "code",
   "execution_count": 156,
   "id": "a0ced916",
   "metadata": {},
   "outputs": [
    {
     "data": {
      "text/html": [
       "<div>\n",
       "<style scoped>\n",
       "    .dataframe tbody tr th:only-of-type {\n",
       "        vertical-align: middle;\n",
       "    }\n",
       "\n",
       "    .dataframe tbody tr th {\n",
       "        vertical-align: top;\n",
       "    }\n",
       "\n",
       "    .dataframe thead th {\n",
       "        text-align: right;\n",
       "    }\n",
       "</style>\n",
       "<table border=\"1\" class=\"dataframe\">\n",
       "  <thead>\n",
       "    <tr style=\"text-align: right;\">\n",
       "      <th></th>\n",
       "      <th>FIPS</th>\n",
       "      <th>state</th>\n",
       "      <th>county</th>\n",
       "      <th>primary_care_physicians</th>\n",
       "    </tr>\n",
       "  </thead>\n",
       "  <tbody>\n",
       "    <tr>\n",
       "      <th>2432</th>\n",
       "      <td>47001</td>\n",
       "      <td>TENNESSEE</td>\n",
       "      <td>Anderson</td>\n",
       "      <td>39.0</td>\n",
       "    </tr>\n",
       "    <tr>\n",
       "      <th>2433</th>\n",
       "      <td>47003</td>\n",
       "      <td>TENNESSEE</td>\n",
       "      <td>Bedford</td>\n",
       "      <td>15.0</td>\n",
       "    </tr>\n",
       "    <tr>\n",
       "      <th>2434</th>\n",
       "      <td>47005</td>\n",
       "      <td>TENNESSEE</td>\n",
       "      <td>Benton</td>\n",
       "      <td>3.0</td>\n",
       "    </tr>\n",
       "    <tr>\n",
       "      <th>2435</th>\n",
       "      <td>47007</td>\n",
       "      <td>TENNESSEE</td>\n",
       "      <td>Bledsoe</td>\n",
       "      <td>1.0</td>\n",
       "    </tr>\n",
       "    <tr>\n",
       "      <th>2436</th>\n",
       "      <td>47009</td>\n",
       "      <td>TENNESSEE</td>\n",
       "      <td>Blount</td>\n",
       "      <td>90.0</td>\n",
       "    </tr>\n",
       "    <tr>\n",
       "      <th>2437</th>\n",
       "      <td>47011</td>\n",
       "      <td>TENNESSEE</td>\n",
       "      <td>Bradley</td>\n",
       "      <td>55.0</td>\n",
       "    </tr>\n",
       "    <tr>\n",
       "      <th>2438</th>\n",
       "      <td>47013</td>\n",
       "      <td>TENNESSEE</td>\n",
       "      <td>Campbell</td>\n",
       "      <td>19.0</td>\n",
       "    </tr>\n",
       "    <tr>\n",
       "      <th>2439</th>\n",
       "      <td>47015</td>\n",
       "      <td>TENNESSEE</td>\n",
       "      <td>Cannon</td>\n",
       "      <td>3.0</td>\n",
       "    </tr>\n",
       "    <tr>\n",
       "      <th>2440</th>\n",
       "      <td>47017</td>\n",
       "      <td>TENNESSEE</td>\n",
       "      <td>Carroll</td>\n",
       "      <td>12.0</td>\n",
       "    </tr>\n",
       "    <tr>\n",
       "      <th>2441</th>\n",
       "      <td>47019</td>\n",
       "      <td>TENNESSEE</td>\n",
       "      <td>Carter</td>\n",
       "      <td>22.0</td>\n",
       "    </tr>\n",
       "  </tbody>\n",
       "</table>\n",
       "</div>"
      ],
      "text/plain": [
       "       FIPS      state    county  primary_care_physicians\n",
       "2432  47001  TENNESSEE  Anderson                     39.0\n",
       "2433  47003  TENNESSEE   Bedford                     15.0\n",
       "2434  47005  TENNESSEE    Benton                      3.0\n",
       "2435  47007  TENNESSEE   Bledsoe                      1.0\n",
       "2436  47009  TENNESSEE    Blount                     90.0\n",
       "2437  47011  TENNESSEE   Bradley                     55.0\n",
       "2438  47013  TENNESSEE  Campbell                     19.0\n",
       "2439  47015  TENNESSEE    Cannon                      3.0\n",
       "2440  47017  TENNESSEE   Carroll                     12.0\n",
       "2441  47019  TENNESSEE    Carter                     22.0"
      ]
     },
     "execution_count": 156,
     "metadata": {},
     "output_type": "execute_result"
    }
   ],
   "source": [
    "physicians.head(10)"
   ]
  },
  {
   "cell_type": "code",
   "execution_count": 157,
   "id": "2cec2dac",
   "metadata": {},
   "outputs": [
    {
     "data": {
      "text/html": [
       "<div>\n",
       "<style scoped>\n",
       "    .dataframe tbody tr th:only-of-type {\n",
       "        vertical-align: middle;\n",
       "    }\n",
       "\n",
       "    .dataframe tbody tr th {\n",
       "        vertical-align: top;\n",
       "    }\n",
       "\n",
       "    .dataframe thead th {\n",
       "        text-align: right;\n",
       "    }\n",
       "</style>\n",
       "<table border=\"1\" class=\"dataframe\">\n",
       "  <thead>\n",
       "    <tr style=\"text-align: right;\">\n",
       "      <th></th>\n",
       "      <th>FIPS</th>\n",
       "      <th>state</th>\n",
       "      <th>county</th>\n",
       "      <th>primary_care_physicians</th>\n",
       "    </tr>\n",
       "  </thead>\n",
       "  <tbody>\n",
       "    <tr>\n",
       "      <th>2517</th>\n",
       "      <td>47171</td>\n",
       "      <td>TENNESSEE</td>\n",
       "      <td>Unicoi</td>\n",
       "      <td>6.0</td>\n",
       "    </tr>\n",
       "    <tr>\n",
       "      <th>2518</th>\n",
       "      <td>47173</td>\n",
       "      <td>TENNESSEE</td>\n",
       "      <td>Union</td>\n",
       "      <td>3.0</td>\n",
       "    </tr>\n",
       "    <tr>\n",
       "      <th>2519</th>\n",
       "      <td>47175</td>\n",
       "      <td>TENNESSEE</td>\n",
       "      <td>Van Buren</td>\n",
       "      <td>0.0</td>\n",
       "    </tr>\n",
       "    <tr>\n",
       "      <th>2520</th>\n",
       "      <td>47177</td>\n",
       "      <td>TENNESSEE</td>\n",
       "      <td>Warren</td>\n",
       "      <td>21.0</td>\n",
       "    </tr>\n",
       "    <tr>\n",
       "      <th>2521</th>\n",
       "      <td>47179</td>\n",
       "      <td>TENNESSEE</td>\n",
       "      <td>Washington</td>\n",
       "      <td>226.0</td>\n",
       "    </tr>\n",
       "    <tr>\n",
       "      <th>2522</th>\n",
       "      <td>47181</td>\n",
       "      <td>TENNESSEE</td>\n",
       "      <td>Wayne</td>\n",
       "      <td>5.0</td>\n",
       "    </tr>\n",
       "    <tr>\n",
       "      <th>2523</th>\n",
       "      <td>47183</td>\n",
       "      <td>TENNESSEE</td>\n",
       "      <td>Weakley</td>\n",
       "      <td>18.0</td>\n",
       "    </tr>\n",
       "    <tr>\n",
       "      <th>2524</th>\n",
       "      <td>47185</td>\n",
       "      <td>TENNESSEE</td>\n",
       "      <td>White</td>\n",
       "      <td>9.0</td>\n",
       "    </tr>\n",
       "    <tr>\n",
       "      <th>2525</th>\n",
       "      <td>47187</td>\n",
       "      <td>TENNESSEE</td>\n",
       "      <td>Williamson</td>\n",
       "      <td>338.0</td>\n",
       "    </tr>\n",
       "    <tr>\n",
       "      <th>2526</th>\n",
       "      <td>47189</td>\n",
       "      <td>TENNESSEE</td>\n",
       "      <td>Wilson</td>\n",
       "      <td>43.0</td>\n",
       "    </tr>\n",
       "  </tbody>\n",
       "</table>\n",
       "</div>"
      ],
      "text/plain": [
       "       FIPS      state      county  primary_care_physicians\n",
       "2517  47171  TENNESSEE      Unicoi                      6.0\n",
       "2518  47173  TENNESSEE       Union                      3.0\n",
       "2519  47175  TENNESSEE   Van Buren                      0.0\n",
       "2520  47177  TENNESSEE      Warren                     21.0\n",
       "2521  47179  TENNESSEE  Washington                    226.0\n",
       "2522  47181  TENNESSEE       Wayne                      5.0\n",
       "2523  47183  TENNESSEE     Weakley                     18.0\n",
       "2524  47185  TENNESSEE       White                      9.0\n",
       "2525  47187  TENNESSEE  Williamson                    338.0\n",
       "2526  47189  TENNESSEE      Wilson                     43.0"
      ]
     },
     "execution_count": 157,
     "metadata": {},
     "output_type": "execute_result"
    }
   ],
   "source": [
    "physicians.tail(10)"
   ]
  },
  {
   "cell_type": "code",
   "execution_count": 158,
   "id": "ba17e50b",
   "metadata": {},
   "outputs": [],
   "source": [
    "physicians = pd.merge(left = physicians, right = population, left_on = 'FIPS', right_on = 'FIPS')"
   ]
  },
  {
   "cell_type": "code",
   "execution_count": 159,
   "id": "9e93aa15",
   "metadata": {},
   "outputs": [
    {
     "data": {
      "text/plain": [
       "(95, 8)"
      ]
     },
     "execution_count": 159,
     "metadata": {},
     "output_type": "execute_result"
    }
   ],
   "source": [
    "physicians.shape"
   ]
  },
  {
   "cell_type": "code",
   "execution_count": 160,
   "id": "eb503f8c",
   "metadata": {},
   "outputs": [
    {
     "data": {
      "text/html": [
       "<div>\n",
       "<style scoped>\n",
       "    .dataframe tbody tr th:only-of-type {\n",
       "        vertical-align: middle;\n",
       "    }\n",
       "\n",
       "    .dataframe tbody tr th {\n",
       "        vertical-align: top;\n",
       "    }\n",
       "\n",
       "    .dataframe thead th {\n",
       "        text-align: right;\n",
       "    }\n",
       "</style>\n",
       "<table border=\"1\" class=\"dataframe\">\n",
       "  <thead>\n",
       "    <tr style=\"text-align: right;\">\n",
       "      <th></th>\n",
       "      <th>FIPS</th>\n",
       "      <th>state_x</th>\n",
       "      <th>county_x</th>\n",
       "      <th>primary_care_physicians</th>\n",
       "      <th>population</th>\n",
       "      <th>county_y</th>\n",
       "      <th>state_y</th>\n",
       "      <th>urban</th>\n",
       "    </tr>\n",
       "  </thead>\n",
       "  <tbody>\n",
       "    <tr>\n",
       "      <th>0</th>\n",
       "      <td>47001</td>\n",
       "      <td>TENNESSEE</td>\n",
       "      <td>Anderson</td>\n",
       "      <td>39.0</td>\n",
       "      <td>76061</td>\n",
       "      <td>Anderson County</td>\n",
       "      <td>TENNESSEE</td>\n",
       "      <td>Urban</td>\n",
       "    </tr>\n",
       "    <tr>\n",
       "      <th>1</th>\n",
       "      <td>47003</td>\n",
       "      <td>TENNESSEE</td>\n",
       "      <td>Bedford</td>\n",
       "      <td>15.0</td>\n",
       "      <td>48292</td>\n",
       "      <td>Bedford County</td>\n",
       "      <td>TENNESSEE</td>\n",
       "      <td>Rural</td>\n",
       "    </tr>\n",
       "    <tr>\n",
       "      <th>2</th>\n",
       "      <td>47005</td>\n",
       "      <td>TENNESSEE</td>\n",
       "      <td>Benton</td>\n",
       "      <td>3.0</td>\n",
       "      <td>16140</td>\n",
       "      <td>Benton County</td>\n",
       "      <td>TENNESSEE</td>\n",
       "      <td>Rural</td>\n",
       "    </tr>\n",
       "    <tr>\n",
       "      <th>3</th>\n",
       "      <td>47007</td>\n",
       "      <td>TENNESSEE</td>\n",
       "      <td>Bledsoe</td>\n",
       "      <td>1.0</td>\n",
       "      <td>14836</td>\n",
       "      <td>Bledsoe County</td>\n",
       "      <td>TENNESSEE</td>\n",
       "      <td>Rural</td>\n",
       "    </tr>\n",
       "    <tr>\n",
       "      <th>4</th>\n",
       "      <td>47009</td>\n",
       "      <td>TENNESSEE</td>\n",
       "      <td>Blount</td>\n",
       "      <td>90.0</td>\n",
       "      <td>129927</td>\n",
       "      <td>Blount County</td>\n",
       "      <td>TENNESSEE</td>\n",
       "      <td>Urban</td>\n",
       "    </tr>\n",
       "    <tr>\n",
       "      <th>...</th>\n",
       "      <td>...</td>\n",
       "      <td>...</td>\n",
       "      <td>...</td>\n",
       "      <td>...</td>\n",
       "      <td>...</td>\n",
       "      <td>...</td>\n",
       "      <td>...</td>\n",
       "      <td>...</td>\n",
       "    </tr>\n",
       "    <tr>\n",
       "      <th>90</th>\n",
       "      <td>47181</td>\n",
       "      <td>TENNESSEE</td>\n",
       "      <td>Wayne</td>\n",
       "      <td>5.0</td>\n",
       "      <td>16693</td>\n",
       "      <td>Wayne County</td>\n",
       "      <td>TENNESSEE</td>\n",
       "      <td>Rural</td>\n",
       "    </tr>\n",
       "    <tr>\n",
       "      <th>91</th>\n",
       "      <td>47183</td>\n",
       "      <td>TENNESSEE</td>\n",
       "      <td>Weakley</td>\n",
       "      <td>18.0</td>\n",
       "      <td>33510</td>\n",
       "      <td>Weakley County</td>\n",
       "      <td>TENNESSEE</td>\n",
       "      <td>Rural</td>\n",
       "    </tr>\n",
       "    <tr>\n",
       "      <th>92</th>\n",
       "      <td>47185</td>\n",
       "      <td>TENNESSEE</td>\n",
       "      <td>White</td>\n",
       "      <td>9.0</td>\n",
       "      <td>26800</td>\n",
       "      <td>White County</td>\n",
       "      <td>TENNESSEE</td>\n",
       "      <td>Rural</td>\n",
       "    </tr>\n",
       "    <tr>\n",
       "      <th>93</th>\n",
       "      <td>47187</td>\n",
       "      <td>TENNESSEE</td>\n",
       "      <td>Williamson</td>\n",
       "      <td>338.0</td>\n",
       "      <td>225389</td>\n",
       "      <td>Williamson County</td>\n",
       "      <td>TENNESSEE</td>\n",
       "      <td>Urban</td>\n",
       "    </tr>\n",
       "    <tr>\n",
       "      <th>94</th>\n",
       "      <td>47189</td>\n",
       "      <td>TENNESSEE</td>\n",
       "      <td>Wilson</td>\n",
       "      <td>43.0</td>\n",
       "      <td>136666</td>\n",
       "      <td>Wilson County</td>\n",
       "      <td>TENNESSEE</td>\n",
       "      <td>Urban</td>\n",
       "    </tr>\n",
       "  </tbody>\n",
       "</table>\n",
       "<p>95 rows × 8 columns</p>\n",
       "</div>"
      ],
      "text/plain": [
       "     FIPS    state_x    county_x  primary_care_physicians  population  \\\n",
       "0   47001  TENNESSEE    Anderson                     39.0       76061   \n",
       "1   47003  TENNESSEE     Bedford                     15.0       48292   \n",
       "2   47005  TENNESSEE      Benton                      3.0       16140   \n",
       "3   47007  TENNESSEE     Bledsoe                      1.0       14836   \n",
       "4   47009  TENNESSEE      Blount                     90.0      129927   \n",
       "..    ...        ...         ...                      ...         ...   \n",
       "90  47181  TENNESSEE       Wayne                      5.0       16693   \n",
       "91  47183  TENNESSEE     Weakley                     18.0       33510   \n",
       "92  47185  TENNESSEE       White                      9.0       26800   \n",
       "93  47187  TENNESSEE  Williamson                    338.0      225389   \n",
       "94  47189  TENNESSEE      Wilson                     43.0      136666   \n",
       "\n",
       "             county_y    state_y  urban  \n",
       "0     Anderson County  TENNESSEE  Urban  \n",
       "1      Bedford County  TENNESSEE  Rural  \n",
       "2       Benton County  TENNESSEE  Rural  \n",
       "3      Bledsoe County  TENNESSEE  Rural  \n",
       "4       Blount County  TENNESSEE  Urban  \n",
       "..                ...        ...    ...  \n",
       "90       Wayne County  TENNESSEE  Rural  \n",
       "91     Weakley County  TENNESSEE  Rural  \n",
       "92       White County  TENNESSEE  Rural  \n",
       "93  Williamson County  TENNESSEE  Urban  \n",
       "94      Wilson County  TENNESSEE  Urban  \n",
       "\n",
       "[95 rows x 8 columns]"
      ]
     },
     "execution_count": 160,
     "metadata": {},
     "output_type": "execute_result"
    }
   ],
   "source": [
    "physicians"
   ]
  },
  {
   "cell_type": "code",
   "execution_count": 161,
   "id": "6e7f404e",
   "metadata": {},
   "outputs": [
    {
     "data": {
      "text/plain": [
       "(38, 8)"
      ]
     },
     "execution_count": 161,
     "metadata": {},
     "output_type": "execute_result"
    }
   ],
   "source": [
    "physicians.loc[physicians['urban'] == 'Urban'].shape\n",
    "#38 urban counties, "
   ]
  },
  {
   "cell_type": "code",
   "execution_count": 162,
   "id": "788ca5e0",
   "metadata": {},
   "outputs": [
    {
     "data": {
      "text/plain": [
       "(57, 8)"
      ]
     },
     "execution_count": 162,
     "metadata": {},
     "output_type": "execute_result"
    }
   ],
   "source": [
    "physicians.loc[physicians['urban'] == 'Rural'].shape\n",
    "#57 rural counties"
   ]
  },
  {
   "cell_type": "code",
   "execution_count": 164,
   "id": "c2f92d84",
   "metadata": {},
   "outputs": [],
   "source": [
    "physicians[\"pop_per_physician\"] = physicians['population']/physicians['primary_care_physicians']"
   ]
  },
  {
   "cell_type": "code",
   "execution_count": 165,
   "id": "7d9eb85d",
   "metadata": {},
   "outputs": [
    {
     "data": {
      "text/html": [
       "<div>\n",
       "<style scoped>\n",
       "    .dataframe tbody tr th:only-of-type {\n",
       "        vertical-align: middle;\n",
       "    }\n",
       "\n",
       "    .dataframe tbody tr th {\n",
       "        vertical-align: top;\n",
       "    }\n",
       "\n",
       "    .dataframe thead th {\n",
       "        text-align: right;\n",
       "    }\n",
       "</style>\n",
       "<table border=\"1\" class=\"dataframe\">\n",
       "  <thead>\n",
       "    <tr style=\"text-align: right;\">\n",
       "      <th></th>\n",
       "      <th>FIPS</th>\n",
       "      <th>state_x</th>\n",
       "      <th>county_x</th>\n",
       "      <th>primary_care_physicians</th>\n",
       "      <th>population</th>\n",
       "      <th>county_y</th>\n",
       "      <th>state_y</th>\n",
       "      <th>urban</th>\n",
       "      <th>pop_per_physician</th>\n",
       "    </tr>\n",
       "  </thead>\n",
       "  <tbody>\n",
       "    <tr>\n",
       "      <th>0</th>\n",
       "      <td>47001</td>\n",
       "      <td>TENNESSEE</td>\n",
       "      <td>Anderson</td>\n",
       "      <td>39.0</td>\n",
       "      <td>76061</td>\n",
       "      <td>Anderson County</td>\n",
       "      <td>TENNESSEE</td>\n",
       "      <td>Urban</td>\n",
       "      <td>1950.282051</td>\n",
       "    </tr>\n",
       "    <tr>\n",
       "      <th>1</th>\n",
       "      <td>47003</td>\n",
       "      <td>TENNESSEE</td>\n",
       "      <td>Bedford</td>\n",
       "      <td>15.0</td>\n",
       "      <td>48292</td>\n",
       "      <td>Bedford County</td>\n",
       "      <td>TENNESSEE</td>\n",
       "      <td>Rural</td>\n",
       "      <td>3219.466667</td>\n",
       "    </tr>\n",
       "    <tr>\n",
       "      <th>2</th>\n",
       "      <td>47005</td>\n",
       "      <td>TENNESSEE</td>\n",
       "      <td>Benton</td>\n",
       "      <td>3.0</td>\n",
       "      <td>16140</td>\n",
       "      <td>Benton County</td>\n",
       "      <td>TENNESSEE</td>\n",
       "      <td>Rural</td>\n",
       "      <td>5380.000000</td>\n",
       "    </tr>\n",
       "    <tr>\n",
       "      <th>3</th>\n",
       "      <td>47007</td>\n",
       "      <td>TENNESSEE</td>\n",
       "      <td>Bledsoe</td>\n",
       "      <td>1.0</td>\n",
       "      <td>14836</td>\n",
       "      <td>Bledsoe County</td>\n",
       "      <td>TENNESSEE</td>\n",
       "      <td>Rural</td>\n",
       "      <td>14836.000000</td>\n",
       "    </tr>\n",
       "    <tr>\n",
       "      <th>4</th>\n",
       "      <td>47009</td>\n",
       "      <td>TENNESSEE</td>\n",
       "      <td>Blount</td>\n",
       "      <td>90.0</td>\n",
       "      <td>129927</td>\n",
       "      <td>Blount County</td>\n",
       "      <td>TENNESSEE</td>\n",
       "      <td>Urban</td>\n",
       "      <td>1443.633333</td>\n",
       "    </tr>\n",
       "  </tbody>\n",
       "</table>\n",
       "</div>"
      ],
      "text/plain": [
       "    FIPS    state_x  county_x  primary_care_physicians  population  \\\n",
       "0  47001  TENNESSEE  Anderson                     39.0       76061   \n",
       "1  47003  TENNESSEE   Bedford                     15.0       48292   \n",
       "2  47005  TENNESSEE    Benton                      3.0       16140   \n",
       "3  47007  TENNESSEE   Bledsoe                      1.0       14836   \n",
       "4  47009  TENNESSEE    Blount                     90.0      129927   \n",
       "\n",
       "          county_y    state_y  urban  pop_per_physician  \n",
       "0  Anderson County  TENNESSEE  Urban        1950.282051  \n",
       "1   Bedford County  TENNESSEE  Rural        3219.466667  \n",
       "2    Benton County  TENNESSEE  Rural        5380.000000  \n",
       "3   Bledsoe County  TENNESSEE  Rural       14836.000000  \n",
       "4    Blount County  TENNESSEE  Urban        1443.633333  "
      ]
     },
     "execution_count": 165,
     "metadata": {},
     "output_type": "execute_result"
    }
   ],
   "source": [
    "physicians.head(5)"
   ]
  },
  {
   "cell_type": "code",
   "execution_count": 215,
   "id": "29b7bafe",
   "metadata": {},
   "outputs": [],
   "source": [
    "adequacy = [] \n",
    "for i in physicians['pop_per_physician'] :\n",
    "    if i < 1500 :\n",
    "        adequacy.append(\"adequate\")\n",
    "    elif 1500 <= i < 3500 :\n",
    "        adequacy.append(\"moderately inadequate\")\n",
    "    elif i >= 3500 :\n",
    "        adequacy.append(\"low inadequate\")\n",
    "    else :\n",
    "        adequacy.append(\"No information\")\n",
    "    \n"
   ]
  },
  {
   "cell_type": "code",
   "execution_count": 216,
   "id": "7d50808f",
   "metadata": {},
   "outputs": [],
   "source": [
    "physicians[\"adequacy\"] = adequacy"
   ]
  },
  {
   "cell_type": "code",
   "execution_count": 217,
   "id": "cb6b042c",
   "metadata": {},
   "outputs": [
    {
     "data": {
      "text/html": [
       "<div>\n",
       "<style scoped>\n",
       "    .dataframe tbody tr th:only-of-type {\n",
       "        vertical-align: middle;\n",
       "    }\n",
       "\n",
       "    .dataframe tbody tr th {\n",
       "        vertical-align: top;\n",
       "    }\n",
       "\n",
       "    .dataframe thead th {\n",
       "        text-align: right;\n",
       "    }\n",
       "</style>\n",
       "<table border=\"1\" class=\"dataframe\">\n",
       "  <thead>\n",
       "    <tr style=\"text-align: right;\">\n",
       "      <th></th>\n",
       "      <th>FIPS</th>\n",
       "      <th>state_x</th>\n",
       "      <th>county_x</th>\n",
       "      <th>primary_care_physicians</th>\n",
       "      <th>population</th>\n",
       "      <th>county_y</th>\n",
       "      <th>state_y</th>\n",
       "      <th>urban</th>\n",
       "      <th>pop_per_physician</th>\n",
       "      <th>adequacy</th>\n",
       "    </tr>\n",
       "  </thead>\n",
       "  <tbody>\n",
       "    <tr>\n",
       "      <th>0</th>\n",
       "      <td>47001</td>\n",
       "      <td>TENNESSEE</td>\n",
       "      <td>Anderson</td>\n",
       "      <td>39.0</td>\n",
       "      <td>76061</td>\n",
       "      <td>Anderson County</td>\n",
       "      <td>TENNESSEE</td>\n",
       "      <td>Urban</td>\n",
       "      <td>1950.282051</td>\n",
       "      <td>moderately inadequate</td>\n",
       "    </tr>\n",
       "    <tr>\n",
       "      <th>1</th>\n",
       "      <td>47003</td>\n",
       "      <td>TENNESSEE</td>\n",
       "      <td>Bedford</td>\n",
       "      <td>15.0</td>\n",
       "      <td>48292</td>\n",
       "      <td>Bedford County</td>\n",
       "      <td>TENNESSEE</td>\n",
       "      <td>Rural</td>\n",
       "      <td>3219.466667</td>\n",
       "      <td>moderately inadequate</td>\n",
       "    </tr>\n",
       "    <tr>\n",
       "      <th>2</th>\n",
       "      <td>47005</td>\n",
       "      <td>TENNESSEE</td>\n",
       "      <td>Benton</td>\n",
       "      <td>3.0</td>\n",
       "      <td>16140</td>\n",
       "      <td>Benton County</td>\n",
       "      <td>TENNESSEE</td>\n",
       "      <td>Rural</td>\n",
       "      <td>5380.000000</td>\n",
       "      <td>low inadequate</td>\n",
       "    </tr>\n",
       "    <tr>\n",
       "      <th>3</th>\n",
       "      <td>47007</td>\n",
       "      <td>TENNESSEE</td>\n",
       "      <td>Bledsoe</td>\n",
       "      <td>1.0</td>\n",
       "      <td>14836</td>\n",
       "      <td>Bledsoe County</td>\n",
       "      <td>TENNESSEE</td>\n",
       "      <td>Rural</td>\n",
       "      <td>14836.000000</td>\n",
       "      <td>low inadequate</td>\n",
       "    </tr>\n",
       "    <tr>\n",
       "      <th>4</th>\n",
       "      <td>47009</td>\n",
       "      <td>TENNESSEE</td>\n",
       "      <td>Blount</td>\n",
       "      <td>90.0</td>\n",
       "      <td>129927</td>\n",
       "      <td>Blount County</td>\n",
       "      <td>TENNESSEE</td>\n",
       "      <td>Urban</td>\n",
       "      <td>1443.633333</td>\n",
       "      <td>adequate</td>\n",
       "    </tr>\n",
       "    <tr>\n",
       "      <th>5</th>\n",
       "      <td>47011</td>\n",
       "      <td>TENNESSEE</td>\n",
       "      <td>Bradley</td>\n",
       "      <td>55.0</td>\n",
       "      <td>105749</td>\n",
       "      <td>Bradley County</td>\n",
       "      <td>TENNESSEE</td>\n",
       "      <td>Urban</td>\n",
       "      <td>1922.709091</td>\n",
       "      <td>moderately inadequate</td>\n",
       "    </tr>\n",
       "    <tr>\n",
       "      <th>6</th>\n",
       "      <td>47013</td>\n",
       "      <td>TENNESSEE</td>\n",
       "      <td>Campbell</td>\n",
       "      <td>19.0</td>\n",
       "      <td>39797</td>\n",
       "      <td>Campbell County</td>\n",
       "      <td>TENNESSEE</td>\n",
       "      <td>Rural</td>\n",
       "      <td>2094.578947</td>\n",
       "      <td>moderately inadequate</td>\n",
       "    </tr>\n",
       "    <tr>\n",
       "      <th>7</th>\n",
       "      <td>47015</td>\n",
       "      <td>TENNESSEE</td>\n",
       "      <td>Cannon</td>\n",
       "      <td>3.0</td>\n",
       "      <td>14178</td>\n",
       "      <td>Cannon County</td>\n",
       "      <td>TENNESSEE</td>\n",
       "      <td>Urban</td>\n",
       "      <td>4726.000000</td>\n",
       "      <td>low inadequate</td>\n",
       "    </tr>\n",
       "    <tr>\n",
       "      <th>8</th>\n",
       "      <td>47017</td>\n",
       "      <td>TENNESSEE</td>\n",
       "      <td>Carroll</td>\n",
       "      <td>12.0</td>\n",
       "      <td>27886</td>\n",
       "      <td>Carroll County</td>\n",
       "      <td>TENNESSEE</td>\n",
       "      <td>Rural</td>\n",
       "      <td>2323.833333</td>\n",
       "      <td>moderately inadequate</td>\n",
       "    </tr>\n",
       "    <tr>\n",
       "      <th>9</th>\n",
       "      <td>47019</td>\n",
       "      <td>TENNESSEE</td>\n",
       "      <td>Carter</td>\n",
       "      <td>22.0</td>\n",
       "      <td>56433</td>\n",
       "      <td>Carter County</td>\n",
       "      <td>TENNESSEE</td>\n",
       "      <td>Urban</td>\n",
       "      <td>2565.136364</td>\n",
       "      <td>moderately inadequate</td>\n",
       "    </tr>\n",
       "  </tbody>\n",
       "</table>\n",
       "</div>"
      ],
      "text/plain": [
       "    FIPS    state_x  county_x  primary_care_physicians  population  \\\n",
       "0  47001  TENNESSEE  Anderson                     39.0       76061   \n",
       "1  47003  TENNESSEE   Bedford                     15.0       48292   \n",
       "2  47005  TENNESSEE    Benton                      3.0       16140   \n",
       "3  47007  TENNESSEE   Bledsoe                      1.0       14836   \n",
       "4  47009  TENNESSEE    Blount                     90.0      129927   \n",
       "5  47011  TENNESSEE   Bradley                     55.0      105749   \n",
       "6  47013  TENNESSEE  Campbell                     19.0       39797   \n",
       "7  47015  TENNESSEE    Cannon                      3.0       14178   \n",
       "8  47017  TENNESSEE   Carroll                     12.0       27886   \n",
       "9  47019  TENNESSEE    Carter                     22.0       56433   \n",
       "\n",
       "          county_y    state_y  urban  pop_per_physician               adequacy  \n",
       "0  Anderson County  TENNESSEE  Urban        1950.282051  moderately inadequate  \n",
       "1   Bedford County  TENNESSEE  Rural        3219.466667  moderately inadequate  \n",
       "2    Benton County  TENNESSEE  Rural        5380.000000         low inadequate  \n",
       "3   Bledsoe County  TENNESSEE  Rural       14836.000000         low inadequate  \n",
       "4    Blount County  TENNESSEE  Urban        1443.633333               adequate  \n",
       "5   Bradley County  TENNESSEE  Urban        1922.709091  moderately inadequate  \n",
       "6  Campbell County  TENNESSEE  Rural        2094.578947  moderately inadequate  \n",
       "7    Cannon County  TENNESSEE  Urban        4726.000000         low inadequate  \n",
       "8   Carroll County  TENNESSEE  Rural        2323.833333  moderately inadequate  \n",
       "9    Carter County  TENNESSEE  Urban        2565.136364  moderately inadequate  "
      ]
     },
     "execution_count": 217,
     "metadata": {},
     "output_type": "execute_result"
    }
   ],
   "source": [
    "physicians.head(10)"
   ]
  },
  {
   "cell_type": "code",
   "execution_count": 218,
   "id": "1ed26ffa",
   "metadata": {},
   "outputs": [
    {
     "data": {
      "text/plain": [
       "(50, 10)"
      ]
     },
     "execution_count": 218,
     "metadata": {},
     "output_type": "execute_result"
    }
   ],
   "source": [
    "physicians.loc[physicians['adequacy'] == 'moderately inadequate'].shape\n",
    "#50 counties"
   ]
  },
  {
   "cell_type": "code",
   "execution_count": 219,
   "id": "58160dae",
   "metadata": {},
   "outputs": [
    {
     "data": {
      "text/plain": [
       "(0, 10)"
      ]
     },
     "execution_count": 219,
     "metadata": {},
     "output_type": "execute_result"
    }
   ],
   "source": [
    "physicians.loc[physicians['adequacy'] == 'No information'].shape"
   ]
  },
  {
   "cell_type": "code",
   "execution_count": 220,
   "id": "b62add38",
   "metadata": {},
   "outputs": [
    {
     "data": {
      "text/plain": [
       "(14, 10)"
      ]
     },
     "execution_count": 220,
     "metadata": {},
     "output_type": "execute_result"
    }
   ],
   "source": [
    "physicians.loc[physicians['adequacy'] == 'adequate'].shape\n",
    "#14 counties "
   ]
  },
  {
   "cell_type": "code",
   "execution_count": 221,
   "id": "c0f00c17",
   "metadata": {},
   "outputs": [
    {
     "data": {
      "text/plain": [
       "(31, 10)"
      ]
     },
     "execution_count": 221,
     "metadata": {},
     "output_type": "execute_result"
    }
   ],
   "source": [
    "physicians.loc[physicians['adequacy'] == 'low inadequate'].shape\n",
    "#31 counties "
   ]
  },
  {
   "cell_type": "code",
   "execution_count": 229,
   "id": "c43e90da",
   "metadata": {
    "scrolled": true
   },
   "outputs": [
    {
     "data": {
      "text/plain": [
       "count     38.000000\n",
       "mean     108.315789\n",
       "std      191.346736\n",
       "min        1.000000\n",
       "25%        6.500000\n",
       "50%       22.500000\n",
       "75%       90.750000\n",
       "max      806.000000\n",
       "Name: primary_care_physicians, dtype: float64"
      ]
     },
     "execution_count": 229,
     "metadata": {},
     "output_type": "execute_result"
    }
   ],
   "source": [
    "physicians.loc[physicians['urban'] == 'Urban']['primary_care_physicians'].describe()"
   ]
  },
  {
   "cell_type": "code",
   "execution_count": 230,
   "id": "7a07acb5",
   "metadata": {
    "scrolled": true
   },
   "outputs": [
    {
     "data": {
      "text/plain": [
       "count    57.000000\n",
       "mean     12.859649\n",
       "std      12.930361\n",
       "min       0.000000\n",
       "25%       3.000000\n",
       "50%       9.000000\n",
       "75%      18.000000\n",
       "max      53.000000\n",
       "Name: primary_care_physicians, dtype: float64"
      ]
     },
     "execution_count": 230,
     "metadata": {},
     "output_type": "execute_result"
    }
   ],
   "source": [
    "physicians.loc[physicians['urban'] == 'Rural']['primary_care_physicians'].describe()"
   ]
  },
  {
   "cell_type": "code",
   "execution_count": 231,
   "id": "c04c96c7",
   "metadata": {},
   "outputs": [],
   "source": [
    "Urban = physicians.loc[physicians['urban'] == 'Urban']"
   ]
  },
  {
   "cell_type": "code",
   "execution_count": 232,
   "id": "9ca0c759",
   "metadata": {},
   "outputs": [
    {
     "data": {
      "text/plain": [
       "count     38.000000\n",
       "mean     108.315789\n",
       "std      191.346736\n",
       "min        1.000000\n",
       "25%        6.500000\n",
       "50%       22.500000\n",
       "75%       90.750000\n",
       "max      806.000000\n",
       "Name: primary_care_physicians, dtype: float64"
      ]
     },
     "execution_count": 232,
     "metadata": {},
     "output_type": "execute_result"
    }
   ],
   "source": [
    "Urban['primary_care_physicians'].describe()"
   ]
  },
  {
   "cell_type": "code",
   "execution_count": 235,
   "id": "20735df7",
   "metadata": {},
   "outputs": [
    {
     "data": {
      "text/html": [
       "<div>\n",
       "<style scoped>\n",
       "    .dataframe tbody tr th:only-of-type {\n",
       "        vertical-align: middle;\n",
       "    }\n",
       "\n",
       "    .dataframe tbody tr th {\n",
       "        vertical-align: top;\n",
       "    }\n",
       "\n",
       "    .dataframe thead th {\n",
       "        text-align: right;\n",
       "    }\n",
       "</style>\n",
       "<table border=\"1\" class=\"dataframe\">\n",
       "  <thead>\n",
       "    <tr style=\"text-align: right;\">\n",
       "      <th></th>\n",
       "      <th>FIPS</th>\n",
       "      <th>state_x</th>\n",
       "      <th>county_x</th>\n",
       "      <th>primary_care_physicians</th>\n",
       "      <th>population</th>\n",
       "      <th>county_y</th>\n",
       "      <th>state_y</th>\n",
       "      <th>urban</th>\n",
       "      <th>pop_per_physician</th>\n",
       "      <th>adequacy</th>\n",
       "    </tr>\n",
       "  </thead>\n",
       "  <tbody>\n",
       "    <tr>\n",
       "      <th>80</th>\n",
       "      <td>47161</td>\n",
       "      <td>TENNESSEE</td>\n",
       "      <td>Stewart</td>\n",
       "      <td>1.0</td>\n",
       "      <td>13427</td>\n",
       "      <td>Stewart County</td>\n",
       "      <td>TENNESSEE</td>\n",
       "      <td>Urban</td>\n",
       "      <td>13427.0</td>\n",
       "      <td>low inadequate</td>\n",
       "    </tr>\n",
       "  </tbody>\n",
       "</table>\n",
       "</div>"
      ],
      "text/plain": [
       "     FIPS    state_x county_x  primary_care_physicians  population  \\\n",
       "80  47161  TENNESSEE  Stewart                      1.0       13427   \n",
       "\n",
       "          county_y    state_y  urban  pop_per_physician        adequacy  \n",
       "80  Stewart County  TENNESSEE  Urban            13427.0  low inadequate  "
      ]
     },
     "execution_count": 235,
     "metadata": {},
     "output_type": "execute_result"
    }
   ],
   "source": [
    "Urban.loc[Urban['primary_care_physicians'] == 1]"
   ]
  },
  {
   "cell_type": "code",
   "execution_count": 242,
   "id": "678016c1",
   "metadata": {
    "scrolled": true
   },
   "outputs": [
    {
     "data": {
      "text/html": [
       "<div>\n",
       "<style scoped>\n",
       "    .dataframe tbody tr th:only-of-type {\n",
       "        vertical-align: middle;\n",
       "    }\n",
       "\n",
       "    .dataframe tbody tr th {\n",
       "        vertical-align: top;\n",
       "    }\n",
       "\n",
       "    .dataframe thead th {\n",
       "        text-align: right;\n",
       "    }\n",
       "</style>\n",
       "<table border=\"1\" class=\"dataframe\">\n",
       "  <thead>\n",
       "    <tr style=\"text-align: right;\">\n",
       "      <th></th>\n",
       "      <th>FIPS</th>\n",
       "      <th>state_x</th>\n",
       "      <th>county_x</th>\n",
       "      <th>primary_care_physicians</th>\n",
       "      <th>population</th>\n",
       "      <th>county_y</th>\n",
       "      <th>state_y</th>\n",
       "      <th>urban</th>\n",
       "      <th>pop_per_physician</th>\n",
       "      <th>adequacy</th>\n",
       "    </tr>\n",
       "  </thead>\n",
       "  <tbody>\n",
       "    <tr>\n",
       "      <th>78</th>\n",
       "      <td>47157</td>\n",
       "      <td>TENNESSEE</td>\n",
       "      <td>Shelby</td>\n",
       "      <td>806.0</td>\n",
       "      <td>936374</td>\n",
       "      <td>Shelby County</td>\n",
       "      <td>TENNESSEE</td>\n",
       "      <td>Urban</td>\n",
       "      <td>1161.754342</td>\n",
       "      <td>adequate</td>\n",
       "    </tr>\n",
       "  </tbody>\n",
       "</table>\n",
       "</div>"
      ],
      "text/plain": [
       "     FIPS    state_x county_x  primary_care_physicians  population  \\\n",
       "78  47157  TENNESSEE   Shelby                    806.0      936374   \n",
       "\n",
       "         county_y    state_y  urban  pop_per_physician  adequacy  \n",
       "78  Shelby County  TENNESSEE  Urban        1161.754342  adequate  "
      ]
     },
     "execution_count": 242,
     "metadata": {},
     "output_type": "execute_result"
    }
   ],
   "source": [
    "Urban.loc[Urban['primary_care_physicians'] == 806]"
   ]
  },
  {
   "cell_type": "code",
   "execution_count": 233,
   "id": "94d865f5",
   "metadata": {},
   "outputs": [],
   "source": [
    "Rural = physicians.loc[physicians['urban'] == 'Rural']"
   ]
  },
  {
   "cell_type": "code",
   "execution_count": 234,
   "id": "13d3f740",
   "metadata": {},
   "outputs": [
    {
     "data": {
      "text/plain": [
       "count    57.000000\n",
       "mean     12.859649\n",
       "std      12.930361\n",
       "min       0.000000\n",
       "25%       3.000000\n",
       "50%       9.000000\n",
       "75%      18.000000\n",
       "max      53.000000\n",
       "Name: primary_care_physicians, dtype: float64"
      ]
     },
     "execution_count": 234,
     "metadata": {},
     "output_type": "execute_result"
    }
   ],
   "source": [
    "Rural['primary_care_physicians'].describe()"
   ]
  },
  {
   "cell_type": "code",
   "execution_count": 237,
   "id": "b2872cd6",
   "metadata": {},
   "outputs": [
    {
     "data": {
      "text/html": [
       "<div>\n",
       "<style scoped>\n",
       "    .dataframe tbody tr th:only-of-type {\n",
       "        vertical-align: middle;\n",
       "    }\n",
       "\n",
       "    .dataframe tbody tr th {\n",
       "        vertical-align: top;\n",
       "    }\n",
       "\n",
       "    .dataframe thead th {\n",
       "        text-align: right;\n",
       "    }\n",
       "</style>\n",
       "<table border=\"1\" class=\"dataframe\">\n",
       "  <thead>\n",
       "    <tr style=\"text-align: right;\">\n",
       "      <th></th>\n",
       "      <th>FIPS</th>\n",
       "      <th>state_x</th>\n",
       "      <th>county_x</th>\n",
       "      <th>primary_care_physicians</th>\n",
       "      <th>population</th>\n",
       "      <th>county_y</th>\n",
       "      <th>state_y</th>\n",
       "      <th>urban</th>\n",
       "      <th>pop_per_physician</th>\n",
       "      <th>adequacy</th>\n",
       "    </tr>\n",
       "  </thead>\n",
       "  <tbody>\n",
       "    <tr>\n",
       "      <th>16</th>\n",
       "      <td>47033</td>\n",
       "      <td>TENNESSEE</td>\n",
       "      <td>Crockett</td>\n",
       "      <td>0.0</td>\n",
       "      <td>14399</td>\n",
       "      <td>Crockett County</td>\n",
       "      <td>TENNESSEE</td>\n",
       "      <td>Rural</td>\n",
       "      <td>inf</td>\n",
       "      <td>low inadequate</td>\n",
       "    </tr>\n",
       "    <tr>\n",
       "      <th>30</th>\n",
       "      <td>47061</td>\n",
       "      <td>TENNESSEE</td>\n",
       "      <td>Grundy</td>\n",
       "      <td>0.0</td>\n",
       "      <td>13344</td>\n",
       "      <td>Grundy County</td>\n",
       "      <td>TENNESSEE</td>\n",
       "      <td>Rural</td>\n",
       "      <td>inf</td>\n",
       "      <td>low inadequate</td>\n",
       "    </tr>\n",
       "    <tr>\n",
       "      <th>47</th>\n",
       "      <td>47095</td>\n",
       "      <td>TENNESSEE</td>\n",
       "      <td>Lake</td>\n",
       "      <td>0.0</td>\n",
       "      <td>7401</td>\n",
       "      <td>Lake County</td>\n",
       "      <td>TENNESSEE</td>\n",
       "      <td>Rural</td>\n",
       "      <td>inf</td>\n",
       "      <td>low inadequate</td>\n",
       "    </tr>\n",
       "    <tr>\n",
       "      <th>87</th>\n",
       "      <td>47175</td>\n",
       "      <td>TENNESSEE</td>\n",
       "      <td>Van Buren</td>\n",
       "      <td>0.0</td>\n",
       "      <td>5760</td>\n",
       "      <td>Van Buren County</td>\n",
       "      <td>TENNESSEE</td>\n",
       "      <td>Rural</td>\n",
       "      <td>inf</td>\n",
       "      <td>low inadequate</td>\n",
       "    </tr>\n",
       "  </tbody>\n",
       "</table>\n",
       "</div>"
      ],
      "text/plain": [
       "     FIPS    state_x   county_x  primary_care_physicians  population  \\\n",
       "16  47033  TENNESSEE   Crockett                      0.0       14399   \n",
       "30  47061  TENNESSEE     Grundy                      0.0       13344   \n",
       "47  47095  TENNESSEE       Lake                      0.0        7401   \n",
       "87  47175  TENNESSEE  Van Buren                      0.0        5760   \n",
       "\n",
       "            county_y    state_y  urban  pop_per_physician        adequacy  \n",
       "16   Crockett County  TENNESSEE  Rural                inf  low inadequate  \n",
       "30     Grundy County  TENNESSEE  Rural                inf  low inadequate  \n",
       "47       Lake County  TENNESSEE  Rural                inf  low inadequate  \n",
       "87  Van Buren County  TENNESSEE  Rural                inf  low inadequate  "
      ]
     },
     "execution_count": 237,
     "metadata": {},
     "output_type": "execute_result"
    }
   ],
   "source": [
    "Rural.loc[Rural['primary_care_physicians'] == 0]"
   ]
  },
  {
   "cell_type": "code",
   "execution_count": 240,
   "id": "e03da237",
   "metadata": {},
   "outputs": [
    {
     "data": {
      "text/plain": [
       "(21, 10)"
      ]
     },
     "execution_count": 240,
     "metadata": {},
     "output_type": "execute_result"
    }
   ],
   "source": [
    "Rural.loc[Rural['adequacy'] == 'low inadequate'].shape"
   ]
  },
  {
   "cell_type": "code",
   "execution_count": 241,
   "id": "96768083",
   "metadata": {},
   "outputs": [
    {
     "data": {
      "text/plain": [
       "(10, 10)"
      ]
     },
     "execution_count": 241,
     "metadata": {},
     "output_type": "execute_result"
    }
   ],
   "source": [
    "Urban.loc[Urban['adequacy'] == 'low inadequate'].shape"
   ]
  },
  {
   "cell_type": "code",
   "execution_count": 244,
   "id": "73be06f5",
   "metadata": {},
   "outputs": [
    {
     "data": {
      "text/plain": [
       "(5, 10)"
      ]
     },
     "execution_count": 244,
     "metadata": {},
     "output_type": "execute_result"
    }
   ],
   "source": [
    "Rural.loc[Rural['adequacy'] == 'adequate'].shape"
   ]
  },
  {
   "cell_type": "code",
   "execution_count": 245,
   "id": "b245283b",
   "metadata": {},
   "outputs": [
    {
     "data": {
      "text/plain": [
       "(9, 10)"
      ]
     },
     "execution_count": 245,
     "metadata": {},
     "output_type": "execute_result"
    }
   ],
   "source": [
    "Urban.loc[Urban['adequacy'] == 'adequate'].shape"
   ]
  },
  {
   "cell_type": "code",
   "execution_count": 246,
   "id": "a663aea2",
   "metadata": {},
   "outputs": [
    {
     "data": {
      "text/plain": [
       "(31, 10)"
      ]
     },
     "execution_count": 246,
     "metadata": {},
     "output_type": "execute_result"
    }
   ],
   "source": [
    "Rural.loc[Rural['adequacy'] == 'moderately inadequate'].shape"
   ]
  },
  {
   "cell_type": "code",
   "execution_count": 247,
   "id": "432c5046",
   "metadata": {},
   "outputs": [
    {
     "data": {
      "text/plain": [
       "(19, 10)"
      ]
     },
     "execution_count": 247,
     "metadata": {},
     "output_type": "execute_result"
    }
   ],
   "source": [
    "Urban.loc[Urban['adequacy'] == 'moderately inadequate'].shape"
   ]
  },
  {
   "cell_type": "markdown",
   "id": "bcad9234",
   "metadata": {},
   "source": [
    "Cursorily yes, it looks like the rural counties tend to have fewer physicians, though there are more rural (57) than urban (38) in Tennessee. Rural mean = 12, median 9; Urban mean = 108, median = 22.5 Further the number of counties with low-inadequacy also differ - with rural counties having 21 counties with low inadequacy (37%) as compared to urban counties (26%), adequate supply in rural counties (9%) as compared to urban (24%), moderately adequate supply in rural (54%) as compared to urban (50%). However, to prove this you should run a log regression! "
   ]
  },
  {
   "cell_type": "code",
   "execution_count": 1,
   "id": "2ec905cb",
   "metadata": {},
   "outputs": [
    {
     "ename": "NameError",
     "evalue": "name 'population' is not defined",
     "output_type": "error",
     "traceback": [
      "\u001b[0;31m---------------------------------------------------------------------------\u001b[0m",
      "\u001b[0;31mNameError\u001b[0m                                 Traceback (most recent call last)",
      "\u001b[0;32m<ipython-input-1-17fe6eb04a50>\u001b[0m in \u001b[0;36m<module>\u001b[0;34m\u001b[0m\n\u001b[0;32m----> 1\u001b[0;31m \u001b[0mpopulation\u001b[0m\u001b[0;34m[\u001b[0m\u001b[0;34m'county'\u001b[0m\u001b[0;34m]\u001b[0m\u001b[0;34m.\u001b[0m\u001b[0mstr\u001b[0m\u001b[0;34m.\u001b[0m\u001b[0mrsplit\u001b[0m\u001b[0;34m(\u001b[0m\u001b[0;34m' '\u001b[0m\u001b[0;34m,\u001b[0m \u001b[0mn\u001b[0m \u001b[0;34m=\u001b[0m \u001b[0;36m1\u001b[0m\u001b[0;34m,\u001b[0m \u001b[0mexpand\u001b[0m \u001b[0;34m=\u001b[0m \u001b[0;32mTrue\u001b[0m\u001b[0;34m)\u001b[0m\u001b[0;34m\u001b[0m\u001b[0;34m\u001b[0m\u001b[0m\n\u001b[0m",
      "\u001b[0;31mNameError\u001b[0m: name 'population' is not defined"
     ]
    }
   ],
   "source": [
    "population['county'].str.rsplit(' ', n = 1, expand = True)"
   ]
  },
  {
   "cell_type": "code",
   "execution_count": null,
   "id": "6532a00c",
   "metadata": {},
   "outputs": [],
   "source": [
    "population['county']=population['county'].str.split(' County', expand = True)[0]\n",
    "#add the space in front of the County to take out the space! "
   ]
  }
 ],
 "metadata": {
  "kernelspec": {
   "display_name": "Python 3",
   "language": "python",
   "name": "python3"
  },
  "language_info": {
   "codemirror_mode": {
    "name": "ipython",
    "version": 3
   },
   "file_extension": ".py",
   "mimetype": "text/x-python",
   "name": "python",
   "nbconvert_exporter": "python",
   "pygments_lexer": "ipython3",
   "version": "3.8.8"
  }
 },
 "nbformat": 4,
 "nbformat_minor": 5
}
